{
  "nbformat": 4,
  "nbformat_minor": 0,
  "metadata": {
    "colab": {
      "provenance": [],
      "authorship_tag": "ABX9TyM0VJgnR/veEGn+Dfx/+XuB",
      "include_colab_link": true
    },
    "kernelspec": {
      "name": "python3",
      "display_name": "Python 3"
    },
    "language_info": {
      "name": "python"
    }
  },
  "cells": [
    {
      "cell_type": "markdown",
      "metadata": {
        "id": "view-in-github",
        "colab_type": "text"
      },
      "source": [
        "<a href=\"https://colab.research.google.com/github/ShreyanshAtru/google-colab/blob/main/Ai_Agent_first.ipynb\" target=\"_parent\"><img src=\"https://colab.research.google.com/assets/colab-badge.svg\" alt=\"Open In Colab\"/></a>"
      ]
    },
    {
      "cell_type": "code",
      "execution_count": null,
      "metadata": {
        "colab": {
          "base_uri": "https://localhost:8080/"
        },
        "id": "vu6x4YDxUoOl",
        "outputId": "5985488d-3c8b-45b5-971e-82e22424b5df"
      },
      "outputs": [
        {
          "output_type": "stream",
          "name": "stdout",
          "text": [
            "Collecting groq\n",
            "  Downloading groq-0.18.0-py3-none-any.whl.metadata (14 kB)\n",
            "Requirement already satisfied: anyio<5,>=3.5.0 in /usr/local/lib/python3.11/dist-packages (from groq) (3.7.1)\n",
            "Requirement already satisfied: distro<2,>=1.7.0 in /usr/local/lib/python3.11/dist-packages (from groq) (1.9.0)\n",
            "Requirement already satisfied: httpx<1,>=0.23.0 in /usr/local/lib/python3.11/dist-packages (from groq) (0.28.1)\n",
            "Requirement already satisfied: pydantic<3,>=1.9.0 in /usr/local/lib/python3.11/dist-packages (from groq) (2.10.6)\n",
            "Requirement already satisfied: sniffio in /usr/local/lib/python3.11/dist-packages (from groq) (1.3.1)\n",
            "Requirement already satisfied: typing-extensions<5,>=4.10 in /usr/local/lib/python3.11/dist-packages (from groq) (4.12.2)\n",
            "Requirement already satisfied: idna>=2.8 in /usr/local/lib/python3.11/dist-packages (from anyio<5,>=3.5.0->groq) (3.10)\n",
            "Requirement already satisfied: certifi in /usr/local/lib/python3.11/dist-packages (from httpx<1,>=0.23.0->groq) (2025.1.31)\n",
            "Requirement already satisfied: httpcore==1.* in /usr/local/lib/python3.11/dist-packages (from httpx<1,>=0.23.0->groq) (1.0.7)\n",
            "Requirement already satisfied: h11<0.15,>=0.13 in /usr/local/lib/python3.11/dist-packages (from httpcore==1.*->httpx<1,>=0.23.0->groq) (0.14.0)\n",
            "Requirement already satisfied: annotated-types>=0.6.0 in /usr/local/lib/python3.11/dist-packages (from pydantic<3,>=1.9.0->groq) (0.7.0)\n",
            "Requirement already satisfied: pydantic-core==2.27.2 in /usr/local/lib/python3.11/dist-packages (from pydantic<3,>=1.9.0->groq) (2.27.2)\n",
            "Downloading groq-0.18.0-py3-none-any.whl (121 kB)\n",
            "\u001b[?25l   \u001b[90m━━━━━━━━━━━━━━━━━━━━━━━━━━━━━━━━━━━━━━━━\u001b[0m \u001b[32m0.0/121.9 kB\u001b[0m \u001b[31m?\u001b[0m eta \u001b[36m-:--:--\u001b[0m\r\u001b[2K   \u001b[91m━━━━━━━━━━━━━━━━━━━━━━━━━━━━━━━━━━━━\u001b[0m\u001b[91m╸\u001b[0m\u001b[90m━━━\u001b[0m \u001b[32m112.6/121.9 kB\u001b[0m \u001b[31m4.5 MB/s\u001b[0m eta \u001b[36m0:00:01\u001b[0m\r\u001b[2K   \u001b[90m━━━━━━━━━━━━━━━━━━━━━━━━━━━━━━━━━━━━━━━━\u001b[0m \u001b[32m121.9/121.9 kB\u001b[0m \u001b[31m2.9 MB/s\u001b[0m eta \u001b[36m0:00:00\u001b[0m\n",
            "\u001b[?25hInstalling collected packages: groq\n",
            "Successfully installed groq-0.18.0\n"
          ]
        }
      ],
      "source": [
        "pip install groq"
      ]
    },
    {
      "cell_type": "code",
      "source": [
        "from dotenv import load_dotenv\n",
        "import os\n",
        "from groq import Groq"
      ],
      "metadata": {
        "id": "8fyMFXQLUui6"
      },
      "execution_count": null,
      "outputs": []
    },
    {
      "cell_type": "code",
      "source": [
        "pip install python-dotenv==1.0.1"
      ],
      "metadata": {
        "colab": {
          "base_uri": "https://localhost:8080/"
        },
        "collapsed": true,
        "id": "JuONwstZU6b6",
        "outputId": "3bfb3be8-fae0-4fd8-8a1e-238097eb8e86"
      },
      "execution_count": null,
      "outputs": [
        {
          "output_type": "stream",
          "name": "stdout",
          "text": [
            "Collecting python-dotenv==1.0.1\n",
            "  Downloading python_dotenv-1.0.1-py3-none-any.whl.metadata (23 kB)\n",
            "Downloading python_dotenv-1.0.1-py3-none-any.whl (19 kB)\n",
            "Installing collected packages: python-dotenv\n",
            "Successfully installed python-dotenv-1.0.1\n"
          ]
        }
      ]
    },
    {
      "cell_type": "code",
      "source": [
        "load_dotenv()"
      ],
      "metadata": {
        "colab": {
          "base_uri": "https://localhost:8080/"
        },
        "collapsed": true,
        "id": "jadU6rzWVAY7",
        "outputId": "044cbde8-60a2-4d4f-cdd9-aa28f5980a2c"
      },
      "execution_count": null,
      "outputs": [
        {
          "output_type": "execute_result",
          "data": {
            "text/plain": [
              "False"
            ]
          },
          "metadata": {},
          "execution_count": 9
        }
      ]
    },
    {
      "cell_type": "code",
      "source": [
        "client = Groq(api_key=\"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\")"
      ],
      "metadata": {
        "id": "Msa6v3JNVi46"
      },
      "execution_count": null,
      "outputs": []
    },
    {
      "cell_type": "code",
      "source": [
        "chat_completion = client.chat.completions.create(\n",
        "    messages=[\n",
        "        {\n",
        "          'role': 'user',\n",
        "        'content': 'Explain the importance of OOPs in programming'\n",
        "        }\n",
        "    ],\n",
        "    model = \"llama3-8b-8192\",\n",
        "    temperature=0\n",
        ")"
      ],
      "metadata": {
        "id": "5gFutAF7VvjV"
      },
      "execution_count": null,
      "outputs": []
    },
    {
      "cell_type": "code",
      "source": [
        "print(chat_completion.choices[0].message.content)"
      ],
      "metadata": {
        "colab": {
          "base_uri": "https://localhost:8080/"
        },
        "collapsed": true,
        "id": "ggqiwVI5WrrK",
        "outputId": "d07490db-2ee5-4aae-c42d-acb1e2e1d84c"
      },
      "execution_count": null,
      "outputs": [
        {
          "output_type": "stream",
          "name": "stdout",
          "text": [
            "Object-Oriented Programming (OOPs) is a programming paradigm that revolves around the concept of \"objects\" and the relationships between them. It is a fundamental concept in software development, and its importance cannot be overstated. Here are some reasons why OOPs is crucial in programming:\n",
            "\n",
            "1. **Modularity**: OOPs allows developers to break down complex programs into smaller, independent modules or objects. Each object has its own properties and methods, making it easier to maintain, modify, and reuse code.\n",
            "2. **Reusability**: OOPs enables code reuse by allowing developers to create objects that can be used in multiple contexts. This reduces code duplication and makes it easier to maintain large programs.\n",
            "3. **Abstraction**: OOPs provides a way to abstract complex systems into simpler, more manageable components. This helps developers focus on the essential features and behaviors of an object, rather than its internal implementation details.\n",
            "4. **Encapsulation**: OOPs allows developers to encapsulate data and behavior within an object, making it harder for other parts of the program to access or modify it directly. This helps to reduce errors and improve program stability.\n",
            "5. **Inheritance**: OOPs enables developers to create a hierarchy of objects, where a child object inherits properties and methods from a parent object. This facilitates code reuse and makes it easier to create complex objects by building upon simpler ones.\n",
            "6. **Polymorphism**: OOPs allows developers to create objects that can take on multiple forms or behaviors, depending on the context in which they are used. This enables more flexible and dynamic programming.\n",
            "7. **Easier debugging**: OOPs makes it easier to debug programs by allowing developers to isolate and test individual objects or components, rather than the entire program.\n",
            "8. **Improved scalability**: OOPs enables programs to be scaled more easily by adding or removing objects, rather than modifying existing code.\n",
            "9. **Better maintainability**: OOPs makes it easier to maintain and update programs by allowing developers to modify individual objects or components, rather than the entire program.\n",
            "10. **Improved collaboration**: OOPs enables developers to work together more effectively by providing a common language and set of principles for designing and implementing software systems.\n",
            "\n",
            "In summary, OOPs is essential in programming because it provides a way to create modular, reusable, and maintainable code that is easier to understand, debug, and scale. It also enables developers to create complex systems by building upon simpler components, and to collaborate more effectively with other developers.\n"
          ]
        }
      ]
    },
    {
      "cell_type": "code",
      "source": [
        "system_prompt = \"\"\"\n",
        "\n",
        "Introduce yourself as Atru-Bot, you'll provide info releated OOPs\n",
        "By using below prompt, you will give the answer\n",
        "Note: If someone ask other questions except the OOPs give them answer you don't know the answer right now\n",
        "Here is a prompt for Python OOPS (Object-Oriented Programming) related questions with answers in a formatted doc:\n",
        "\n",
        "*Python OOPS Concepts*\n",
        "1. *Classes and Objects*\n",
        "*Question:* What is the difference between a class and an object in Python?\n",
        "\n",
        "*Answer:* In Python, a class is a template for creating objects. An object is an instance of a class, and has its own set of attributes (data) and methods (functions). A class defines the structure and behavior of an object, while an object represents a specific instance of that class.\n",
        "\n",
        "2. *Inheritance*\n",
        "*Question:* How does inheritance work in Python? Provide an example.\n",
        "\n",
        "*Answer:* Inheritance in Python allows one class to inherit the attributes and methods of another class. The child class inherits all the attributes and methods of the parent class and can also add new attributes and methods or override the ones inherited from the parent class.\n",
        "\n",
        "Example:\n",
        "```\n",
        "class Animal:\n",
        "    def __init__(self, name):\n",
        "        self.name = name\n",
        "\n",
        "    def eat(self):\n",
        "        print(f\"{self.name} is eating.\")\n",
        "\n",
        "class Dog(Animal):\n",
        "    def bark(self):\n",
        "        print(f\"{self.name} says Woof!\")\n",
        "\n",
        "my_dog = Dog(\"Fido\")\n",
        "my_dog.eat()  # Output: Fido is eating.\n",
        "my_dog.bark()  # Output: Fido says Woof!\n",
        "```\n",
        "\n",
        "3. *Polymorphism*\n",
        "*Question:* What is polymorphism in Python? Provide an example of method overriding.\n",
        "\n",
        "*Answer:* Polymorphism in Python is the ability of an object to take on multiple forms. This can be achieved through method overriding or method overloading. Method overriding occurs when a child class provides a different implementation of a method that is already defined in its parent class.\n",
        "\n",
        "Example:\n",
        "```\n",
        "class Shape:\n",
        "    def area(self):\n",
        "        pass\n",
        "\n",
        "class Square(Shape):\n",
        "    def __init__(self, side):\n",
        "        self.side = side\n",
        "\n",
        "    def area(self):\n",
        "        return self.side ** 2\n",
        "\n",
        "class Circle(Shape):\n",
        "    def __init__(self, radius):\n",
        "        self.radius = radius\n",
        "\n",
        "    def area(self):\n",
        "        return 3.14 * (self.radius ** 2)\n",
        "\n",
        "square = Square(4)\n",
        "circle = Circle(5)\n",
        "\n",
        "print(square.area())  # Output: 16\n",
        "print(circle.area())  # Output: 78.5\n",
        "```\n",
        "\n",
        "4. *Encapsulation*\n",
        "*Question:* How does encapsulation work in Python? Provide an example of a class with private attributes.\n",
        "\n",
        "*Answer:* Encapsulation in Python is the concept of hiding the implementation details of an object from the outside world and only exposing the necessary information through public methods. In Python, private attributes are denoted by a double underscore prefix.\n",
        "\n",
        "Example:\n",
        "```\n",
        "class BankAccount:\n",
        "    def __init__(self, account_number, balance):\n",
        "        self.__account_number = account_number\n",
        "        self.__balance = balance\n",
        "\n",
        "    def deposit(self, amount):\n",
        "        self.__balance += amount\n",
        "\n",
        "    def get_balance(self):\n",
        "        return self.__balance\n",
        "\n",
        "account = BankAccount(\"1234567890\", 1000.0)\n",
        "account.deposit(500.0)\n",
        "print(account.get_balance())  # Output: 1500.0\n",
        "```\n",
        "\n",
        "5.Abstraction\n",
        "Question: What is abstraction in Python? Provide an example of an abstract class.\n",
        "\n",
        "*Answer:* Abstraction in Python is the concept of showing only the necessary information to the outside world while hiding the implementation details. An abstract class in Python is a class that cannot be instantiated and is designed to be inherited by other classes.\n",
        "\n",
        "Example:\n",
        "from abc import ABC, abstractmethod\n",
        "\n",
        "class AbstractClassExample(ABC):\n",
        "    @abstractmethod\n",
        "    def do_something(self):\n",
        "        pass\n",
        "\n",
        "class AnotherSubclass(AbstractClassExample):\n",
        "    def do_something(self):\n",
        "        super().do_something()\n",
        "        print(\"The subclass is doing something\")\n",
        "\n",
        "x = AnotherSubclass()\n",
        "x.do_something()\n",
        "\n",
        "Note: Don't answer if query is not related to Python OOPS\n",
        "\n",
        "\"\"\""
      ],
      "metadata": {
        "id": "7nwlr1gEWua_"
      },
      "execution_count": null,
      "outputs": []
    },
    {
      "cell_type": "code",
      "source": [
        "class Agent:\n",
        "  def __init__(self, client: Groq, system: str = \"\"):\n",
        "    self.client = client\n",
        "    self.system = str(system)\n",
        "    self.messages: list = []\n",
        "    if self.system:\n",
        "      self.messages.append({\"role\": \"system\", \"content\": self.system})\n",
        "\n",
        "  def __call__(self, messages=\"\"):\n",
        "    if messages:\n",
        "      self.messages.append({\"role\": \"user\", \"content\": messages})\n",
        "    result = self.execute()\n",
        "    self.messages.append({\"role\": \"assistant\", \"content\": result})\n",
        "    return result\n",
        "\n",
        "  def execute(self):\n",
        "    completion = self.client.chat.completions.create(\n",
        "      messages=self.messages,\n",
        "      model=\"llama3-8b-8192\",\n",
        "      temperature=0\n",
        "    )\n",
        "    return completion.choices[0].message.content"
      ],
      "metadata": {
        "id": "YfKWQL6giDvy"
      },
      "execution_count": null,
      "outputs": []
    },
    {
      "cell_type": "code",
      "source": [
        "bot_obj = Agent(client, system=system_prompt)"
      ],
      "metadata": {
        "id": "VnntY1KvjiyN"
      },
      "execution_count": null,
      "outputs": []
    },
    {
      "cell_type": "code",
      "source": [
        "print(bot_obj.messages)"
      ],
      "metadata": {
        "colab": {
          "base_uri": "https://localhost:8080/"
        },
        "id": "UpX2sXYClonu",
        "outputId": "f0387db0-f3cd-4226-aabd-4e478a75fa9a"
      },
      "execution_count": null,
      "outputs": [
        {
          "output_type": "stream",
          "name": "stdout",
          "text": [
            "[{'role': 'system', 'content': '[\\'Introduce\\', \\'yourself\\', \\'as\\', \\'Atru-Bot,\\', \"you\\'ll\", \\'provide\\', \\'info\\', \\'releated\\', \\'OOPs\\', \\'By\\', \\'using\\', \\'below\\', \\'prompt,\\', \\'you\\', \\'will\\', \\'give\\', \\'the\\', \\'answer\\', \\'Note:\\', \\'If\\', \\'someone\\', \\'ask\\', \\'other\\', \\'questions\\', \\'except\\', \\'the\\', \\'OOPs\\', \\'give\\', \\'them\\', \\'answer\\', \\'you\\', \"don\\'t\", \\'know\\', \\'the\\', \\'answer\\', \\'right\\', \\'now\\', \\'Here\\', \\'is\\', \\'a\\', \\'prompt\\', \\'for\\', \\'Python\\', \\'OOPS\\', \\'(Object-Oriented\\', \\'Programming)\\', \\'related\\', \\'questions\\', \\'with\\', \\'answers\\', \\'in\\', \\'a\\', \\'formatted\\', \\'doc:\\', \\'*Python\\', \\'OOPS\\', \\'Concepts*\\', \\'1.\\', \\'*Classes\\', \\'and\\', \\'Objects*\\', \\'*Question:*\\', \\'What\\', \\'is\\', \\'the\\', \\'difference\\', \\'between\\', \\'a\\', \\'class\\', \\'and\\', \\'an\\', \\'object\\', \\'in\\', \\'Python?\\', \\'*Answer:*\\', \\'In\\', \\'Python,\\', \\'a\\', \\'class\\', \\'is\\', \\'a\\', \\'template\\', \\'for\\', \\'creating\\', \\'objects.\\', \\'An\\', \\'object\\', \\'is\\', \\'an\\', \\'instance\\', \\'of\\', \\'a\\', \\'class,\\', \\'and\\', \\'has\\', \\'its\\', \\'own\\', \\'set\\', \\'of\\', \\'attributes\\', \\'(data)\\', \\'and\\', \\'methods\\', \\'(functions).\\', \\'A\\', \\'class\\', \\'defines\\', \\'the\\', \\'structure\\', \\'and\\', \\'behavior\\', \\'of\\', \\'an\\', \\'object,\\', \\'while\\', \\'an\\', \\'object\\', \\'represents\\', \\'a\\', \\'specific\\', \\'instance\\', \\'of\\', \\'that\\', \\'class.\\', \\'2.\\', \\'*Inheritance*\\', \\'*Question:*\\', \\'How\\', \\'does\\', \\'inheritance\\', \\'work\\', \\'in\\', \\'Python?\\', \\'Provide\\', \\'an\\', \\'example.\\', \\'*Answer:*\\', \\'Inheritance\\', \\'in\\', \\'Python\\', \\'allows\\', \\'one\\', \\'class\\', \\'to\\', \\'inherit\\', \\'the\\', \\'attributes\\', \\'and\\', \\'methods\\', \\'of\\', \\'another\\', \\'class.\\', \\'The\\', \\'child\\', \\'class\\', \\'inherits\\', \\'all\\', \\'the\\', \\'attributes\\', \\'and\\', \\'methods\\', \\'of\\', \\'the\\', \\'parent\\', \\'class\\', \\'and\\', \\'can\\', \\'also\\', \\'add\\', \\'new\\', \\'attributes\\', \\'and\\', \\'methods\\', \\'or\\', \\'override\\', \\'the\\', \\'ones\\', \\'inherited\\', \\'from\\', \\'the\\', \\'parent\\', \\'class.\\', \\'Example:\\', \\'```\\', \\'class\\', \\'Animal:\\', \\'def\\', \\'__init__(self,\\', \\'name):\\', \\'self.name\\', \\'=\\', \\'name\\', \\'def\\', \\'eat(self):\\', \\'print(f\"{self.name}\\', \\'is\\', \\'eating.\")\\', \\'class\\', \\'Dog(Animal):\\', \\'def\\', \\'bark(self):\\', \\'print(f\"{self.name}\\', \\'says\\', \\'Woof!\")\\', \\'my_dog\\', \\'=\\', \\'Dog(\"Fido\")\\', \\'my_dog.eat()\\', \\'#\\', \\'Output:\\', \\'Fido\\', \\'is\\', \\'eating.\\', \\'my_dog.bark()\\', \\'#\\', \\'Output:\\', \\'Fido\\', \\'says\\', \\'Woof!\\', \\'```\\', \\'3.\\', \\'*Polymorphism*\\', \\'*Question:*\\', \\'What\\', \\'is\\', \\'polymorphism\\', \\'in\\', \\'Python?\\', \\'Provide\\', \\'an\\', \\'example\\', \\'of\\', \\'method\\', \\'overriding.\\', \\'*Answer:*\\', \\'Polymorphism\\', \\'in\\', \\'Python\\', \\'is\\', \\'the\\', \\'ability\\', \\'of\\', \\'an\\', \\'object\\', \\'to\\', \\'take\\', \\'on\\', \\'multiple\\', \\'forms.\\', \\'This\\', \\'can\\', \\'be\\', \\'achieved\\', \\'through\\', \\'method\\', \\'overriding\\', \\'or\\', \\'method\\', \\'overloading.\\', \\'Method\\', \\'overriding\\', \\'occurs\\', \\'when\\', \\'a\\', \\'child\\', \\'class\\', \\'provides\\', \\'a\\', \\'different\\', \\'implementation\\', \\'of\\', \\'a\\', \\'method\\', \\'that\\', \\'is\\', \\'already\\', \\'defined\\', \\'in\\', \\'its\\', \\'parent\\', \\'class.\\', \\'Example:\\', \\'```\\', \\'class\\', \\'Shape:\\', \\'def\\', \\'area(self):\\', \\'pass\\', \\'class\\', \\'Square(Shape):\\', \\'def\\', \\'__init__(self,\\', \\'side):\\', \\'self.side\\', \\'=\\', \\'side\\', \\'def\\', \\'area(self):\\', \\'return\\', \\'self.side\\', \\'**\\', \\'2\\', \\'class\\', \\'Circle(Shape):\\', \\'def\\', \\'__init__(self,\\', \\'radius):\\', \\'self.radius\\', \\'=\\', \\'radius\\', \\'def\\', \\'area(self):\\', \\'return\\', \\'3.14\\', \\'*\\', \\'(self.radius\\', \\'**\\', \\'2)\\', \\'square\\', \\'=\\', \\'Square(4)\\', \\'circle\\', \\'=\\', \\'Circle(5)\\', \\'print(square.area())\\', \\'#\\', \\'Output:\\', \\'16\\', \\'print(circle.area())\\', \\'#\\', \\'Output:\\', \\'78.5\\', \\'```\\', \\'4.\\', \\'*Encapsulation*\\', \\'*Question:*\\', \\'How\\', \\'does\\', \\'encapsulation\\', \\'work\\', \\'in\\', \\'Python?\\', \\'Provide\\', \\'an\\', \\'example\\', \\'of\\', \\'a\\', \\'class\\', \\'with\\', \\'private\\', \\'attributes.\\', \\'*Answer:*\\', \\'Encapsulation\\', \\'in\\', \\'Python\\', \\'is\\', \\'the\\', \\'concept\\', \\'of\\', \\'hiding\\', \\'the\\', \\'implementation\\', \\'details\\', \\'of\\', \\'an\\', \\'object\\', \\'from\\', \\'the\\', \\'outside\\', \\'world\\', \\'and\\', \\'only\\', \\'exposing\\', \\'the\\', \\'necessary\\', \\'information\\', \\'through\\', \\'public\\', \\'methods.\\', \\'In\\', \\'Python,\\', \\'private\\', \\'attributes\\', \\'are\\', \\'denoted\\', \\'by\\', \\'a\\', \\'double\\', \\'underscore\\', \\'prefix.\\', \\'Example:\\', \\'```\\', \\'class\\', \\'BankAccount:\\', \\'def\\', \\'__init__(self,\\', \\'account_number,\\', \\'balance):\\', \\'self.__account_number\\', \\'=\\', \\'account_number\\', \\'self.__balance\\', \\'=\\', \\'balance\\', \\'def\\', \\'deposit(self,\\', \\'amount):\\', \\'self.__balance\\', \\'+=\\', \\'amount\\', \\'def\\', \\'get_balance(self):\\', \\'return\\', \\'self.__balance\\', \\'account\\', \\'=\\', \\'BankAccount(\"1234567890\",\\', \\'1000.0)\\', \\'account.deposit(500.0)\\', \\'print(account.get_balance())\\', \\'#\\', \\'Output:\\', \\'1500.0\\', \\'```\\', \\'5.Abstraction\\', \\'Question:\\', \\'What\\', \\'is\\', \\'abstraction\\', \\'in\\', \\'Python?\\', \\'Provide\\', \\'an\\', \\'example\\', \\'of\\', \\'an\\', \\'abstract\\', \\'class.\\', \\'*Answer:*\\', \\'Abstraction\\', \\'in\\', \\'Python\\', \\'is\\', \\'the\\', \\'concept\\', \\'of\\', \\'showing\\', \\'only\\', \\'the\\', \\'necessary\\', \\'information\\', \\'to\\', \\'the\\', \\'outside\\', \\'world\\', \\'while\\', \\'hiding\\', \\'the\\', \\'implementation\\', \\'details.\\', \\'An\\', \\'abstract\\', \\'class\\', \\'in\\', \\'Python\\', \\'is\\', \\'a\\', \\'class\\', \\'that\\', \\'cannot\\', \\'be\\', \\'instantiated\\', \\'and\\', \\'is\\', \\'designed\\', \\'to\\', \\'be\\', \\'inherited\\', \\'by\\', \\'other\\', \\'classes.\\', \\'Example:\\', \\'from\\', \\'abc\\', \\'import\\', \\'ABC,\\', \\'abstractmethod\\', \\'class\\', \\'AbstractClassExample(ABC):\\', \\'@abstractmethod\\', \\'def\\', \\'do_something(self):\\', \\'pass\\', \\'class\\', \\'AnotherSubclass(AbstractClassExample):\\', \\'def\\', \\'do_something(self):\\', \\'super().do_something()\\', \\'print(\"The\\', \\'subclass\\', \\'is\\', \\'doing\\', \\'something\")\\', \\'x\\', \\'=\\', \\'AnotherSubclass()\\', \\'x.do_something()\\']'}]\n"
          ]
        }
      ]
    },
    {
      "cell_type": "code",
      "source": [
        "\n",
        "agent = Agent(client=client, system=system_prompt)\n",
        "# query = \"What is the difference between a class and an object in Python?\"\n",
        "queries = [\n",
        "    \"What is the difference between a class and an object in Python?\",\n",
        "    \"How does inheritance work in Python? Provide an example.\",\n",
        "    # \"What is polymorphism in Python? Provide an example of method overriding.\",\n",
        "    # \"How does encapsulation work in Python? Provide an example of a class with private attributes.\",\n",
        "    # \"What is abstraction in Python? Provide an example of an abstract class.\",\n",
        "    # \"What is the capital of France?\",  # Non-OOPs related question\n",
        "    # \"Explain the concept of decorators in Python.\" # Non-OOPs related question\n",
        "]\n",
        "# for query in queries:\n",
        "#   result = agent(query)\n",
        "#   print(f\"User Query: {query}\")\n",
        "#   print(f\"Bot Response:\\n{result}\\n\")\n",
        "\n",
        "i = 2\n",
        "history = []\n",
        "while i>0:\n",
        "  i -=1\n",
        "  userQuery = input(\"Do you have any OOPs feature question?\")\n",
        "  result = agent(userQuery)\n",
        "  print(f\"User Query: {userQuery}\")\n",
        "  print(f\"Bot Response:\\n{result}\\n\")\n",
        "  history.append(({userQuery: result}))\n",
        "  result = ''\n",
        "  print()"
      ],
      "metadata": {
        "colab": {
          "base_uri": "https://localhost:8080/"
        },
        "id": "MjWYzkqPk6Bc",
        "outputId": "255e0d5d-fd0c-4726-f219-cbd89a10f992"
      },
      "execution_count": null,
      "outputs": [
        {
          "output_type": "stream",
          "name": "stdout",
          "text": [
            "Do you have any OOPs feature question?abstraction?\n",
            "User Query: abstraction?\n",
            "Bot Response:\n",
            "*Python OOPS Concepts*\n",
            "\n",
            "*Question:* What is abstraction in Python? Provide an example of an abstract class.\n",
            "\n",
            "*Answer:* Abstraction in Python is the concept of showing only the necessary information to the outside world while hiding the implementation details. An abstract class in Python is a class that cannot be instantiated and is designed to be inherited by other classes.\n",
            "\n",
            "Example:\n",
            "```\n",
            "from abc import ABC, abstractmethod\n",
            "\n",
            "class AbstractClassExample(ABC):\n",
            "    @abstractmethod\n",
            "    def do_something(self):\n",
            "        pass\n",
            "\n",
            "class AnotherSubclass(AbstractClassExample):\n",
            "    def do_something(self):\n",
            "        super().do_something()\n",
            "        print(\"The subclass is doing something\")\n",
            "\n",
            "x = AnotherSubclass()\n",
            "x.do_something()\n",
            "```\n",
            "\n",
            "Note: If you have any other questions related to Python OOPS, feel free to ask!\n",
            "\n",
            "\n",
            "Do you have any OOPs feature question?encapsultion\n",
            "User Query: encapsultion\n",
            "Bot Response:\n",
            "*Python OOPS Concepts*\n",
            "\n",
            "*Question:* How does encapsulation work in Python? Provide an example of a class with private attributes.\n",
            "\n",
            "*Answer:* Encapsulation in Python is the concept of hiding the implementation details of an object from the outside world and only exposing the necessary information through public methods. In Python, private attributes are denoted by a double underscore prefix.\n",
            "\n",
            "Example:\n",
            "```\n",
            "class BankAccount:\n",
            "    def __init__(self, account_number, balance):\n",
            "        self.__account_number = account_number\n",
            "        self.__balance = balance\n",
            "\n",
            "    def deposit(self, amount):\n",
            "        self.__balance += amount\n",
            "\n",
            "    def get_balance(self):\n",
            "        return self.__balance\n",
            "\n",
            "account = BankAccount(\"1234567890\", 1000.0)\n",
            "account.deposit(500.0)\n",
            "print(account.get_balance())  # Output: 1500.0\n",
            "```\n",
            "\n",
            "In this example, the `BankAccount` class encapsulates the `account_number` and `balance` attributes, making them private by prefixing them with a double underscore. The `deposit` and `get_balance` methods provide a way to interact with the private attributes, while keeping the internal implementation details hidden.\n",
            "\n",
            "\n"
          ]
        }
      ]
    },
    {
      "cell_type": "code",
      "source": [
        "print(history)"
      ],
      "metadata": {
        "colab": {
          "base_uri": "https://localhost:8080/"
        },
        "collapsed": true,
        "id": "qi1fgzwblOH5",
        "outputId": "ec644d69-3e35-4ef8-b720-e354a46bb260"
      },
      "execution_count": null,
      "outputs": [
        {
          "output_type": "stream",
          "name": "stdout",
          "text": [
            "[{'abstraction?': '*Python OOPS Concepts*\\n\\n*Question:* What is abstraction in Python? Provide an example of an abstract class.\\n\\n*Answer:* Abstraction in Python is the concept of showing only the necessary information to the outside world while hiding the implementation details. An abstract class in Python is a class that cannot be instantiated and is designed to be inherited by other classes.\\n\\nExample:\\n```\\nfrom abc import ABC, abstractmethod\\n\\nclass AbstractClassExample(ABC):\\n    @abstractmethod\\n    def do_something(self):\\n        pass\\n\\nclass AnotherSubclass(AbstractClassExample):\\n    def do_something(self):\\n        super().do_something()\\n        print(\"The subclass is doing something\")\\n\\nx = AnotherSubclass()\\nx.do_something()\\n```\\n\\nNote: If you have any other questions related to Python OOPS, feel free to ask!'}, {'encapsultion': '*Python OOPS Concepts*\\n\\n*Question:* How does encapsulation work in Python? Provide an example of a class with private attributes.\\n\\n*Answer:* Encapsulation in Python is the concept of hiding the implementation details of an object from the outside world and only exposing the necessary information through public methods. In Python, private attributes are denoted by a double underscore prefix.\\n\\nExample:\\n```\\nclass BankAccount:\\n    def __init__(self, account_number, balance):\\n        self.__account_number = account_number\\n        self.__balance = balance\\n\\n    def deposit(self, amount):\\n        self.__balance += amount\\n\\n    def get_balance(self):\\n        return self.__balance\\n\\naccount = BankAccount(\"1234567890\", 1000.0)\\naccount.deposit(500.0)\\nprint(account.get_balance())  # Output: 1500.0\\n```\\n\\nIn this example, the `BankAccount` class encapsulates the `account_number` and `balance` attributes, making them private by prefixing them with a double underscore. The `deposit` and `get_balance` methods provide a way to interact with the private attributes, while keeping the internal implementation details hidden.'}]\n"
          ]
        }
      ]
    },
    {
      "cell_type": "code",
      "source": [],
      "metadata": {
        "id": "woMIR4mSsazf"
      },
      "execution_count": null,
      "outputs": []
    }
  ]
}